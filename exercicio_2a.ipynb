{
 "cells": [
  {
   "cell_type": "code",
   "execution_count": 2,
   "id": "28e0bace-8597-4286-840f-3495aeaad28b",
   "metadata": {},
   "outputs": [
    {
     "data": {
      "text/plain": [
       "'1.20.1'"
      ]
     },
     "execution_count": 2,
     "metadata": {},
     "output_type": "execute_result"
    }
   ],
   "source": [
    "# 1ª questão:\n",
    "import numpy as np # importando a biblioteca numpy\n",
    "np.__version__"
   ]
  },
  {
   "cell_type": "markdown",
   "id": "172b171b-66c4-4642-9005-b2adbed1b5c6",
   "metadata": {},
   "source": [
    "2ª questão:\n",
    "- Vetorização é quando nos aplicamos alguma função a algum um array, sem usar estruturas de repetição;\n",
    "- Broadcast e a técnica de relacionar elemento por elemento na operação de dois vetores."
   ]
  },
  {
   "cell_type": "markdown",
   "id": "76d03ddb-1690-4199-8837-86555817a403",
   "metadata": {},
   "source": [
    "3ª questão:\n",
    "\n",
    " Listas:\n",
    "- Mutáveis;\n",
    "- Ordenadas;\n",
    "- Heterogêneas, tem capacidade de guardar mais de um tipo;\n",
    "- Indexada por posição (Ex.: \"0, 1, 2...\" tendo cada item da lista indexada em uma dessas possições de forma ordenada); \n",
    "- Delimitada por colchetes [];\n",
    "- Não podem ser feitas operações com os itens da lista.\n",
    "\n",
    "Dicionários:\n",
    "- Mutáveis, assim como as listas;\n",
    "- Não ordenados;\n",
    "- Heterogêneos, tem capacidade de guardar mais de um tipo, assim como as listas;\n",
    "- Indexada por chaves (Cada item da lista possui uma 'chave', que serve da mesma forma que as posições da lista servem para os itens da lista, ou seja, para chamar um dos itens, deve-se usar a chave que identifica aquele item. A diferença é que essa chave deve ser dita na construção do dicionário, e não tem a necessidade de serem ordenados como a lista.) ;\n",
    "- Delimitada por chaves { };\n",
    "- Diferentes da lista, os itens pertencentes ao dicionário podem ser operados.\n",
    "\n",
    "Array numpy herda algumas características pertencentes às listas e aos dicionários. Como por exemplo:\n",
    "- Mutável e Heterogêneo, como ambos os outros são;\n",
    "- Assim como os dicionários, pode ser feito operações com os itens pertencentes ao vetor.\n",
    "\n",
    "Porém, sobre a questão de organização, pode ser feita indexação por chave, como é feito nos dicionários e pode quando não é especificado chave, automaticamente indexa de forma ordenada como ocorre nas listas."
   ]
  },
  {
   "cell_type": "code",
   "execution_count": 4,
   "id": "29952f03-f555-4e08-be16-ad485dd4ecca",
   "metadata": {},
   "outputs": [
    {
     "data": {
      "text/plain": [
       "array([[ 1,  6, 11],\n",
       "       [ 2,  7, 12],\n",
       "       [ 3,  8, 13],\n",
       "       [ 4,  9, 14],\n",
       "       [ 5, 10, 15]])"
      ]
     },
     "execution_count": 4,
     "metadata": {},
     "output_type": "execute_result"
    }
   ],
   "source": [
    "# 4ª questão:\n",
    "arr = [[1, 6, 11], [2, 7, 12], [3, 8, 13], [4, 9, 14], [5, 10, 15]]\n",
    "novo_arr = np.array(arr)\n",
    "novo_arr"
   ]
  },
  {
   "cell_type": "code",
   "execution_count": 3,
   "id": "fda571be-124d-4788-8c72-7c58aaf556a0",
   "metadata": {},
   "outputs": [
    {
     "data": {
      "text/plain": [
       "array([ 1.        ,  3.11111111,  5.22222222,  7.33333333,  9.44444444,\n",
       "       11.55555556, 13.66666667, 15.77777778, 17.88888889, 20.        ])"
      ]
     },
     "execution_count": 3,
     "metadata": {},
     "output_type": "execute_result"
    }
   ],
   "source": [
    "# 5ª questão, letra A:\n",
    "arr = np.linspace(1,20,10)\n",
    "arr"
   ]
  },
  {
   "cell_type": "code",
   "execution_count": 5,
   "id": "4bdf7ffd-c356-4bf8-8326-4c3d1be2fa9b",
   "metadata": {},
   "outputs": [
    {
     "data": {
      "text/plain": [
       "array([[1, 0, 0],\n",
       "       [0, 2, 0],\n",
       "       [0, 0, 3]])"
      ]
     },
     "execution_count": 5,
     "metadata": {},
     "output_type": "execute_result"
    }
   ],
   "source": [
    "# 5ª questão, letra c:\n",
    "arr = [[1, 0, 0],[0, 2, 0],[0, 0, 3]]\n",
    "novo_arr = np.array(arr)\n",
    "novo_arr"
   ]
  }
 ],
 "metadata": {
  "kernelspec": {
   "display_name": "Python 3",
   "language": "python",
   "name": "python3"
  },
  "language_info": {
   "codemirror_mode": {
    "name": "ipython",
    "version": 3
   },
   "file_extension": ".py",
   "mimetype": "text/x-python",
   "name": "python",
   "nbconvert_exporter": "python",
   "pygments_lexer": "ipython3",
   "version": "3.8.8"
  }
 },
 "nbformat": 4,
 "nbformat_minor": 5
}
