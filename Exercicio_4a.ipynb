{
 "cells": [
  {
   "cell_type": "code",
   "execution_count": 1,
   "id": "e2307158-b80b-4190-8eb9-121078839e3a",
   "metadata": {},
   "outputs": [],
   "source": [
    "import numpy as np\n",
    "import pandas as pd"
   ]
  },
  {
   "cell_type": "markdown",
   "id": "37da00ce-c62f-4ddd-bd13-498b21c171b9",
   "metadata": {},
   "source": [
    "<h1>Questão 1</h1>"
   ]
  },
  {
   "cell_type": "code",
   "execution_count": 2,
   "id": "94fa5500-6de5-47fd-bbf2-40cc740969d4",
   "metadata": {},
   "outputs": [],
   "source": [
    "mercearia = pd.DataFrame({\"loja\":[\"A\", \"A\", \"A\"],\n",
    "\"dia\": [\"sex\", \"sab\", \"dom\"],\n",
    "\"valor\": [7500, 9500, 8200]})\n",
    "\n",
    "farmacia = pd.DataFrame({\"loja\":[\"B\", \"B\", \"B\"],\n",
    "\"dia\": [\"sex\", \"sab\", \"dom\"],\n",
    "\"valor\": [5100, 8250, 9900]})\n",
    "\n",
    "restaurante = pd.DataFrame({\"loja\":[\"C\", \"C\"],\n",
    "\"dia\": [\"sab\", \"dom\"],\n",
    "\"valor\": [7500, 11800]})"
   ]
  },
  {
   "cell_type": "code",
   "execution_count": 3,
   "id": "f36f73b9-f738-472c-92f8-7beeb34b2b67",
   "metadata": {},
   "outputs": [
    {
     "data": {
      "text/html": [
       "<div>\n",
       "<style scoped>\n",
       "    .dataframe tbody tr th:only-of-type {\n",
       "        vertical-align: middle;\n",
       "    }\n",
       "\n",
       "    .dataframe tbody tr th {\n",
       "        vertical-align: top;\n",
       "    }\n",
       "\n",
       "    .dataframe thead th {\n",
       "        text-align: right;\n",
       "    }\n",
       "</style>\n",
       "<table border=\"1\" class=\"dataframe\">\n",
       "  <thead>\n",
       "    <tr style=\"text-align: right;\">\n",
       "      <th></th>\n",
       "      <th>loja</th>\n",
       "      <th>dia</th>\n",
       "      <th>valor</th>\n",
       "    </tr>\n",
       "  </thead>\n",
       "  <tbody>\n",
       "    <tr>\n",
       "      <th>0</th>\n",
       "      <td>A</td>\n",
       "      <td>sex</td>\n",
       "      <td>7500</td>\n",
       "    </tr>\n",
       "    <tr>\n",
       "      <th>1</th>\n",
       "      <td>A</td>\n",
       "      <td>sab</td>\n",
       "      <td>9500</td>\n",
       "    </tr>\n",
       "    <tr>\n",
       "      <th>2</th>\n",
       "      <td>A</td>\n",
       "      <td>dom</td>\n",
       "      <td>8200</td>\n",
       "    </tr>\n",
       "    <tr>\n",
       "      <th>3</th>\n",
       "      <td>B</td>\n",
       "      <td>sex</td>\n",
       "      <td>5100</td>\n",
       "    </tr>\n",
       "    <tr>\n",
       "      <th>4</th>\n",
       "      <td>B</td>\n",
       "      <td>sab</td>\n",
       "      <td>8250</td>\n",
       "    </tr>\n",
       "    <tr>\n",
       "      <th>5</th>\n",
       "      <td>B</td>\n",
       "      <td>dom</td>\n",
       "      <td>9900</td>\n",
       "    </tr>\n",
       "    <tr>\n",
       "      <th>6</th>\n",
       "      <td>C</td>\n",
       "      <td>sab</td>\n",
       "      <td>7500</td>\n",
       "    </tr>\n",
       "    <tr>\n",
       "      <th>7</th>\n",
       "      <td>C</td>\n",
       "      <td>dom</td>\n",
       "      <td>11800</td>\n",
       "    </tr>\n",
       "  </tbody>\n",
       "</table>\n",
       "</div>"
      ],
      "text/plain": [
       "  loja  dia  valor\n",
       "0    A  sex   7500\n",
       "1    A  sab   9500\n",
       "2    A  dom   8200\n",
       "3    B  sex   5100\n",
       "4    B  sab   8250\n",
       "5    B  dom   9900\n",
       "6    C  sab   7500\n",
       "7    C  dom  11800"
      ]
     },
     "execution_count": 3,
     "metadata": {},
     "output_type": "execute_result"
    }
   ],
   "source": [
    "pd.concat([mercearia,farmacia, restaurante], ignore_index=True)"
   ]
  },
  {
   "cell_type": "code",
   "execution_count": 4,
   "id": "c0a2a6a6-4a83-4b8c-a43c-b53de0728191",
   "metadata": {},
   "outputs": [
    {
     "data": {
      "text/html": [
       "<div>\n",
       "<style scoped>\n",
       "    .dataframe tbody tr th:only-of-type {\n",
       "        vertical-align: middle;\n",
       "    }\n",
       "\n",
       "    .dataframe tbody tr th {\n",
       "        vertical-align: top;\n",
       "    }\n",
       "\n",
       "    .dataframe thead th {\n",
       "        text-align: right;\n",
       "    }\n",
       "</style>\n",
       "<table border=\"1\" class=\"dataframe\">\n",
       "  <thead>\n",
       "    <tr style=\"text-align: right;\">\n",
       "      <th></th>\n",
       "      <th>loja</th>\n",
       "      <th>dia</th>\n",
       "      <th>valor</th>\n",
       "      <th>loja</th>\n",
       "      <th>dia</th>\n",
       "      <th>valor</th>\n",
       "      <th>loja</th>\n",
       "      <th>dia</th>\n",
       "      <th>valor</th>\n",
       "    </tr>\n",
       "  </thead>\n",
       "  <tbody>\n",
       "    <tr>\n",
       "      <th>0</th>\n",
       "      <td>A</td>\n",
       "      <td>sex</td>\n",
       "      <td>7500</td>\n",
       "      <td>B</td>\n",
       "      <td>sex</td>\n",
       "      <td>5100</td>\n",
       "      <td>C</td>\n",
       "      <td>sab</td>\n",
       "      <td>7500.0</td>\n",
       "    </tr>\n",
       "    <tr>\n",
       "      <th>1</th>\n",
       "      <td>A</td>\n",
       "      <td>sab</td>\n",
       "      <td>9500</td>\n",
       "      <td>B</td>\n",
       "      <td>sab</td>\n",
       "      <td>8250</td>\n",
       "      <td>C</td>\n",
       "      <td>dom</td>\n",
       "      <td>11800.0</td>\n",
       "    </tr>\n",
       "    <tr>\n",
       "      <th>2</th>\n",
       "      <td>A</td>\n",
       "      <td>dom</td>\n",
       "      <td>8200</td>\n",
       "      <td>B</td>\n",
       "      <td>dom</td>\n",
       "      <td>9900</td>\n",
       "      <td>NaN</td>\n",
       "      <td>NaN</td>\n",
       "      <td>NaN</td>\n",
       "    </tr>\n",
       "  </tbody>\n",
       "</table>\n",
       "</div>"
      ],
      "text/plain": [
       "  loja  dia  valor loja  dia  valor loja  dia    valor\n",
       "0    A  sex   7500    B  sex   5100    C  sab   7500.0\n",
       "1    A  sab   9500    B  sab   8250    C  dom  11800.0\n",
       "2    A  dom   8200    B  dom   9900  NaN  NaN      NaN"
      ]
     },
     "execution_count": 4,
     "metadata": {},
     "output_type": "execute_result"
    }
   ],
   "source": [
    "pd.concat([mercearia,farmacia, restaurante], axis=1)"
   ]
  },
  {
   "cell_type": "markdown",
   "id": "9077bc8c-7e92-4edf-8cbc-16fe594eaf68",
   "metadata": {},
   "source": [
    "* A diferença entre as duas saídas é que na primeira a saída é feita fazendo a concatenação dos dois DF de forma vertical, um acima do outro; já na segunda a saída ocorre de forma horizontal;\n",
    "* Os valores NaN ocorrem na junçãos dos DF quando um dos DF tem uma coluna/linha a menos que e para se adequar ao formato, os espaços vazios são preenchidos por valores NaN."
   ]
  },
  {
   "cell_type": "markdown",
   "id": "705cf2e8-10d7-401d-aaa2-7effa81ec77f",
   "metadata": {},
   "source": [
    "<h1>Questão 2</h1>"
   ]
  },
  {
   "cell_type": "code",
   "execution_count": 6,
   "id": "b27be866-e5fd-4692-a417-c6d0fe641b0c",
   "metadata": {},
   "outputs": [],
   "source": [
    "SQL = pd.DataFrame({\"email\":[\"rakesh@xyz.com\",\n",
    "\"ecg@acmecorpus.com\"]})\n",
    "PYTHON = pd.DataFrame({\"email\":[\"ana@xyz.com\",\n",
    "\"jonas@acmecorpus.com\",\n",
    "\"rakesh@xyz.com\"]})"
   ]
  },
  {
   "cell_type": "markdown",
   "id": "15e615a9-80f3-4525-88f2-051ea791a977",
   "metadata": {},
   "source": [
    "<h2>LETRA A</h2>"
   ]
  },
  {
   "cell_type": "code",
   "execution_count": 55,
   "id": "bc51347c-f883-4d16-947d-fe60ddb8f536",
   "metadata": {},
   "outputs": [
    {
     "data": {
      "text/html": [
       "<div>\n",
       "<style scoped>\n",
       "    .dataframe tbody tr th:only-of-type {\n",
       "        vertical-align: middle;\n",
       "    }\n",
       "\n",
       "    .dataframe tbody tr th {\n",
       "        vertical-align: top;\n",
       "    }\n",
       "\n",
       "    .dataframe thead th {\n",
       "        text-align: right;\n",
       "    }\n",
       "</style>\n",
       "<table border=\"1\" class=\"dataframe\">\n",
       "  <thead>\n",
       "    <tr style=\"text-align: right;\">\n",
       "      <th></th>\n",
       "      <th>email</th>\n",
       "    </tr>\n",
       "  </thead>\n",
       "  <tbody>\n",
       "    <tr>\n",
       "      <th>0</th>\n",
       "      <td>ana@xyz.com</td>\n",
       "    </tr>\n",
       "    <tr>\n",
       "      <th>1</th>\n",
       "      <td>jonas@acmecorpus.com</td>\n",
       "    </tr>\n",
       "    <tr>\n",
       "      <th>2</th>\n",
       "      <td>rakesh@xyz.com</td>\n",
       "    </tr>\n",
       "    <tr>\n",
       "      <th>3</th>\n",
       "      <td>ecg@acmecorpus.com</td>\n",
       "    </tr>\n",
       "  </tbody>\n",
       "</table>\n",
       "</div>"
      ],
      "text/plain": [
       "                  email\n",
       "0           ana@xyz.com\n",
       "1  jonas@acmecorpus.com\n",
       "2        rakesh@xyz.com\n",
       "3    ecg@acmecorpus.com"
      ]
     },
     "execution_count": 55,
     "metadata": {},
     "output_type": "execute_result"
    }
   ],
   "source": [
    "pd.merge(PYTHON,SQL, how='outer')"
   ]
  },
  {
   "cell_type": "markdown",
   "id": "843366c7-eee0-4158-86c4-9e85c60ef044",
   "metadata": {},
   "source": [
    "<h2>LETRA B</h2>"
   ]
  },
  {
   "cell_type": "code",
   "execution_count": 56,
   "id": "888d9306-1e49-4d88-8d14-d9c84eb9916d",
   "metadata": {},
   "outputs": [
    {
     "data": {
      "text/html": [
       "<div>\n",
       "<style scoped>\n",
       "    .dataframe tbody tr th:only-of-type {\n",
       "        vertical-align: middle;\n",
       "    }\n",
       "\n",
       "    .dataframe tbody tr th {\n",
       "        vertical-align: top;\n",
       "    }\n",
       "\n",
       "    .dataframe thead th {\n",
       "        text-align: right;\n",
       "    }\n",
       "</style>\n",
       "<table border=\"1\" class=\"dataframe\">\n",
       "  <thead>\n",
       "    <tr style=\"text-align: right;\">\n",
       "      <th></th>\n",
       "      <th>email</th>\n",
       "    </tr>\n",
       "  </thead>\n",
       "  <tbody>\n",
       "    <tr>\n",
       "      <th>0</th>\n",
       "      <td>rakesh@xyz.com</td>\n",
       "    </tr>\n",
       "  </tbody>\n",
       "</table>\n",
       "</div>"
      ],
      "text/plain": [
       "            email\n",
       "0  rakesh@xyz.com"
      ]
     },
     "execution_count": 56,
     "metadata": {},
     "output_type": "execute_result"
    }
   ],
   "source": [
    "pd.merge(PYTHON,SQL, how='inner')"
   ]
  },
  {
   "cell_type": "markdown",
   "id": "5f5cad85-4871-494e-984c-2f2a6fabb71c",
   "metadata": {},
   "source": [
    "Somente o aluno com o e-mail rakesh@xyz.com está matriculado em ambos os cursos."
   ]
  },
  {
   "cell_type": "markdown",
   "id": "04a4486a-05b4-46ae-af1f-4069376d2b53",
   "metadata": {},
   "source": [
    "<h2>LETRA C</h2>"
   ]
  },
  {
   "cell_type": "code",
   "execution_count": 59,
   "id": "25c71854-9297-43b7-af07-62ec6b44a526",
   "metadata": {},
   "outputs": [
    {
     "data": {
      "text/html": [
       "<div>\n",
       "<style scoped>\n",
       "    .dataframe tbody tr th:only-of-type {\n",
       "        vertical-align: middle;\n",
       "    }\n",
       "\n",
       "    .dataframe tbody tr th {\n",
       "        vertical-align: top;\n",
       "    }\n",
       "\n",
       "    .dataframe thead th {\n",
       "        text-align: right;\n",
       "    }\n",
       "</style>\n",
       "<table border=\"1\" class=\"dataframe\">\n",
       "  <thead>\n",
       "    <tr style=\"text-align: right;\">\n",
       "      <th></th>\n",
       "      <th>email</th>\n",
       "    </tr>\n",
       "  </thead>\n",
       "  <tbody>\n",
       "    <tr>\n",
       "      <th>1</th>\n",
       "      <td>ecg@acmecorpus.com</td>\n",
       "    </tr>\n",
       "  </tbody>\n",
       "</table>\n",
       "</div>"
      ],
      "text/plain": [
       "                email\n",
       "1  ecg@acmecorpus.com"
      ]
     },
     "execution_count": 59,
     "metadata": {},
     "output_type": "execute_result"
    }
   ],
   "source": [
    "SQL[SQL.email.isin(PYTHON.email)==False]\n"
   ]
  },
  {
   "cell_type": "code",
   "execution_count": 61,
   "id": "aed31e3d-ce47-4eef-af4e-3c36529462b7",
   "metadata": {},
   "outputs": [
    {
     "data": {
      "text/html": [
       "<div>\n",
       "<style scoped>\n",
       "    .dataframe tbody tr th:only-of-type {\n",
       "        vertical-align: middle;\n",
       "    }\n",
       "\n",
       "    .dataframe tbody tr th {\n",
       "        vertical-align: top;\n",
       "    }\n",
       "\n",
       "    .dataframe thead th {\n",
       "        text-align: right;\n",
       "    }\n",
       "</style>\n",
       "<table border=\"1\" class=\"dataframe\">\n",
       "  <thead>\n",
       "    <tr style=\"text-align: right;\">\n",
       "      <th></th>\n",
       "      <th>email</th>\n",
       "    </tr>\n",
       "  </thead>\n",
       "  <tbody>\n",
       "    <tr>\n",
       "      <th>0</th>\n",
       "      <td>ana@xyz.com</td>\n",
       "    </tr>\n",
       "    <tr>\n",
       "      <th>1</th>\n",
       "      <td>jonas@acmecorpus.com</td>\n",
       "    </tr>\n",
       "  </tbody>\n",
       "</table>\n",
       "</div>"
      ],
      "text/plain": [
       "                  email\n",
       "0           ana@xyz.com\n",
       "1  jonas@acmecorpus.com"
      ]
     },
     "execution_count": 61,
     "metadata": {},
     "output_type": "execute_result"
    }
   ],
   "source": [
    "PYTHON[PYTHON.email.isin(SQL.email)==False]"
   ]
  },
  {
   "cell_type": "markdown",
   "id": "45cca704-3573-4c0b-a837-f08efb8b8fae",
   "metadata": {},
   "source": [
    "<h1>Questão 3</h1>"
   ]
  },
  {
   "cell_type": "code",
   "execution_count": 40,
   "id": "e1711e31-41b7-42fd-b0a4-fbfd08ef5dc7",
   "metadata": {},
   "outputs": [],
   "source": [
    "dic_emp = {\"id\":[\"D1\",\"D2\",\"D3\",\"D4\"],\n",
    "\"nomDepto\": [\"Compras\",\"RH\",\"TI\",\"Vendas\"],\n",
    "\"local\":[\"SP\",\"RJ\",\"RJ\",\"SP\"]}\n",
    "dic_func = {\"num\":[3199,3269,3555,3788,3844],\n",
    "\"nome\": [\"Ana\",\"David\",\"José\",\"Marina\",\"Luís\"],\n",
    "\"salario\":[1600,2975,1500,5000,3000],\n",
    "\"idDepto\": [\"D2\",\"D3\",None,\"D2\",\"D4\"]}"
   ]
  },
  {
   "cell_type": "code",
   "execution_count": 41,
   "id": "bedc62dc-ed50-4800-bd1c-e67b9e90f4c3",
   "metadata": {},
   "outputs": [],
   "source": [
    "empresa = pd.DataFrame(dic_emp)\n",
    "funcionarios = pd.DataFrame(dic_func)"
   ]
  },
  {
   "cell_type": "code",
   "execution_count": 42,
   "id": "1bd699d3-3110-4165-96f9-8fc30cc71092",
   "metadata": {},
   "outputs": [
    {
     "data": {
      "text/html": [
       "<div>\n",
       "<style scoped>\n",
       "    .dataframe tbody tr th:only-of-type {\n",
       "        vertical-align: middle;\n",
       "    }\n",
       "\n",
       "    .dataframe tbody tr th {\n",
       "        vertical-align: top;\n",
       "    }\n",
       "\n",
       "    .dataframe thead th {\n",
       "        text-align: right;\n",
       "    }\n",
       "</style>\n",
       "<table border=\"1\" class=\"dataframe\">\n",
       "  <thead>\n",
       "    <tr style=\"text-align: right;\">\n",
       "      <th></th>\n",
       "      <th>id</th>\n",
       "      <th>nomDepto</th>\n",
       "      <th>local</th>\n",
       "    </tr>\n",
       "  </thead>\n",
       "  <tbody>\n",
       "    <tr>\n",
       "      <th>0</th>\n",
       "      <td>D1</td>\n",
       "      <td>Compras</td>\n",
       "      <td>SP</td>\n",
       "    </tr>\n",
       "    <tr>\n",
       "      <th>1</th>\n",
       "      <td>D2</td>\n",
       "      <td>RH</td>\n",
       "      <td>RJ</td>\n",
       "    </tr>\n",
       "    <tr>\n",
       "      <th>2</th>\n",
       "      <td>D3</td>\n",
       "      <td>TI</td>\n",
       "      <td>RJ</td>\n",
       "    </tr>\n",
       "    <tr>\n",
       "      <th>3</th>\n",
       "      <td>D4</td>\n",
       "      <td>Vendas</td>\n",
       "      <td>SP</td>\n",
       "    </tr>\n",
       "  </tbody>\n",
       "</table>\n",
       "</div>"
      ],
      "text/plain": [
       "   id nomDepto local\n",
       "0  D1  Compras    SP\n",
       "1  D2       RH    RJ\n",
       "2  D3       TI    RJ\n",
       "3  D4   Vendas    SP"
      ]
     },
     "execution_count": 42,
     "metadata": {},
     "output_type": "execute_result"
    }
   ],
   "source": [
    "empresa"
   ]
  },
  {
   "cell_type": "code",
   "execution_count": 63,
   "id": "f1972d84-ceb6-45f6-b3a5-5bf0a208414b",
   "metadata": {},
   "outputs": [
    {
     "data": {
      "text/html": [
       "<div>\n",
       "<style scoped>\n",
       "    .dataframe tbody tr th:only-of-type {\n",
       "        vertical-align: middle;\n",
       "    }\n",
       "\n",
       "    .dataframe tbody tr th {\n",
       "        vertical-align: top;\n",
       "    }\n",
       "\n",
       "    .dataframe thead th {\n",
       "        text-align: right;\n",
       "    }\n",
       "</style>\n",
       "<table border=\"1\" class=\"dataframe\">\n",
       "  <thead>\n",
       "    <tr style=\"text-align: right;\">\n",
       "      <th></th>\n",
       "      <th>num</th>\n",
       "      <th>nome</th>\n",
       "      <th>salario</th>\n",
       "      <th>idDepto</th>\n",
       "    </tr>\n",
       "  </thead>\n",
       "  <tbody>\n",
       "    <tr>\n",
       "      <th>0</th>\n",
       "      <td>3199</td>\n",
       "      <td>Ana</td>\n",
       "      <td>1600</td>\n",
       "      <td>D2</td>\n",
       "    </tr>\n",
       "    <tr>\n",
       "      <th>1</th>\n",
       "      <td>3269</td>\n",
       "      <td>David</td>\n",
       "      <td>2975</td>\n",
       "      <td>D3</td>\n",
       "    </tr>\n",
       "    <tr>\n",
       "      <th>2</th>\n",
       "      <td>3555</td>\n",
       "      <td>José</td>\n",
       "      <td>1500</td>\n",
       "      <td>None</td>\n",
       "    </tr>\n",
       "    <tr>\n",
       "      <th>3</th>\n",
       "      <td>3788</td>\n",
       "      <td>Marina</td>\n",
       "      <td>5000</td>\n",
       "      <td>D2</td>\n",
       "    </tr>\n",
       "    <tr>\n",
       "      <th>4</th>\n",
       "      <td>3844</td>\n",
       "      <td>Luís</td>\n",
       "      <td>3000</td>\n",
       "      <td>D4</td>\n",
       "    </tr>\n",
       "  </tbody>\n",
       "</table>\n",
       "</div>"
      ],
      "text/plain": [
       "    num    nome  salario idDepto\n",
       "0  3199     Ana     1600      D2\n",
       "1  3269   David     2975      D3\n",
       "2  3555    José     1500    None\n",
       "3  3788  Marina     5000      D2\n",
       "4  3844    Luís     3000      D4"
      ]
     },
     "execution_count": 63,
     "metadata": {},
     "output_type": "execute_result"
    }
   ],
   "source": [
    "funcionarios"
   ]
  },
  {
   "cell_type": "code",
   "execution_count": 66,
   "id": "1c067280-dad5-427c-b4ea-8e70893a221d",
   "metadata": {},
   "outputs": [
    {
     "data": {
      "text/html": [
       "<div>\n",
       "<style scoped>\n",
       "    .dataframe tbody tr th:only-of-type {\n",
       "        vertical-align: middle;\n",
       "    }\n",
       "\n",
       "    .dataframe tbody tr th {\n",
       "        vertical-align: top;\n",
       "    }\n",
       "\n",
       "    .dataframe thead th {\n",
       "        text-align: right;\n",
       "    }\n",
       "</style>\n",
       "<table border=\"1\" class=\"dataframe\">\n",
       "  <thead>\n",
       "    <tr style=\"text-align: right;\">\n",
       "      <th></th>\n",
       "      <th>id</th>\n",
       "      <th>nomDepto</th>\n",
       "      <th>local</th>\n",
       "      <th>num</th>\n",
       "      <th>nome</th>\n",
       "      <th>salario</th>\n",
       "      <th>idDepto</th>\n",
       "    </tr>\n",
       "  </thead>\n",
       "  <tbody>\n",
       "    <tr>\n",
       "      <th>0</th>\n",
       "      <td>D2</td>\n",
       "      <td>RH</td>\n",
       "      <td>RJ</td>\n",
       "      <td>3199</td>\n",
       "      <td>Ana</td>\n",
       "      <td>1600</td>\n",
       "      <td>D2</td>\n",
       "    </tr>\n",
       "    <tr>\n",
       "      <th>1</th>\n",
       "      <td>D2</td>\n",
       "      <td>RH</td>\n",
       "      <td>RJ</td>\n",
       "      <td>3788</td>\n",
       "      <td>Marina</td>\n",
       "      <td>5000</td>\n",
       "      <td>D2</td>\n",
       "    </tr>\n",
       "    <tr>\n",
       "      <th>2</th>\n",
       "      <td>D3</td>\n",
       "      <td>TI</td>\n",
       "      <td>RJ</td>\n",
       "      <td>3269</td>\n",
       "      <td>David</td>\n",
       "      <td>2975</td>\n",
       "      <td>D3</td>\n",
       "    </tr>\n",
       "    <tr>\n",
       "      <th>3</th>\n",
       "      <td>D4</td>\n",
       "      <td>Vendas</td>\n",
       "      <td>SP</td>\n",
       "      <td>3844</td>\n",
       "      <td>Luís</td>\n",
       "      <td>3000</td>\n",
       "      <td>D4</td>\n",
       "    </tr>\n",
       "  </tbody>\n",
       "</table>\n",
       "</div>"
      ],
      "text/plain": [
       "   id nomDepto local   num    nome  salario idDepto\n",
       "0  D2       RH    RJ  3199     Ana     1600      D2\n",
       "1  D2       RH    RJ  3788  Marina     5000      D2\n",
       "2  D3       TI    RJ  3269   David     2975      D3\n",
       "3  D4   Vendas    SP  3844    Luís     3000      D4"
      ]
     },
     "execution_count": 66,
     "metadata": {},
     "output_type": "execute_result"
    }
   ],
   "source": [
    "pd.merge(empresa,funcionarios,left_on=\"id\",right_on=\"idDepto\")"
   ]
  }
 ],
 "metadata": {
  "kernelspec": {
   "display_name": "Python 3",
   "language": "python",
   "name": "python3"
  },
  "language_info": {
   "codemirror_mode": {
    "name": "ipython",
    "version": 3
   },
   "file_extension": ".py",
   "mimetype": "text/x-python",
   "name": "python",
   "nbconvert_exporter": "python",
   "pygments_lexer": "ipython3",
   "version": "3.8.8"
  }
 },
 "nbformat": 4,
 "nbformat_minor": 5
}
